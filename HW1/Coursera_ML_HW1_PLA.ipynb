{
 "cells": [
  {
   "cell_type": "markdown",
   "id": "prostate-cannon",
   "metadata": {},
   "source": [
    "# HW1 (Q15-20)\n",
    "\n",
    "### Q15\n",
    "First, we use an artificial data set to study PLA. The data set is in https://www.csie.ntu.edu.tw/~htlin/mooc/datasets/mlfound_math/hw1_15_train.dat \n",
    "\n",
    "Each line of the data set contains one **(x<sub>n</sub>, *y*<sub>n</sub>)** with **x<sub>n</sub> ∈ R<sup>4</sup>**. The first 4 numbers of the line contains the components of *x*<sub>n</sub> orderly, the last number is *y*<sub>n</sub>.\n",
    "Please initialize your algorithm with w = 0 and take sign(0)as -1. Please always remember to add x0 = 1 to each x.\n",
    "\n",
    "What is the number of updates before the algorithm halts?"
   ]
  },
  {
   "cell_type": "code",
   "execution_count": 186,
   "id": "infrared-feeling",
   "metadata": {},
   "outputs": [],
   "source": [
    "import random as rd\n",
    "import numpy as np"
   ]
  },
  {
   "cell_type": "code",
   "execution_count": 505,
   "id": "entire-wings",
   "metadata": {},
   "outputs": [],
   "source": [
    "#Load Data and Return Array \n",
    "\n",
    "def load_data(infile:'Data Path') -> array:\n",
    "    X = []\n",
    "    Y = []\n",
    "    with open(infile) as f:\n",
    "        for line in f:\n",
    "            recs = line.split()\n",
    "            x = [1] + [float(v) for v in recs[:-1]]\n",
    "            X.append(tuple(x))\n",
    "            Y.append(int(recs[-1]))\n",
    "    return array(X), array(Y)\n",
    "\n",
    "#Determine the sign \n",
    "def sign(x:int) -> int:\n",
    "    if x <= 0:\n",
    "        return -1\n",
    "    else: \n",
    "        return 1\n"
   ]
  },
  {
   "cell_type": "code",
   "execution_count": 507,
   "id": "developmental-invitation",
   "metadata": {},
   "outputs": [],
   "source": [
    "#Naive PLA\n",
    "def naive_pla(X: array, Y: array, randomize = False, eta = 1) -> int:\n",
    "    n = len(Y) #Number of Y\n",
    "    d = len(X[0]) #Dimension of X\n",
    "    W = zeros(d) #Intial W\n",
    "    iteration = 0\n",
    "    rand = range(n) #If randomize == False then go through the data by row\n",
    "    \n",
    "    if randomize: #If randomize == True then create a new order of row index\n",
    "        idx = range(n)\n",
    "        rand = rd.sample(idx, n)\n",
    "    \n",
    "    while True: \n",
    "        false_data = 0\n",
    "\n",
    "        for i in rand:\n",
    "             if Y[i] != sign(np.dot(W, X[i])): #If Y != sign(WX)\n",
    "                W += eta*Y[i]*X[i]  #Update W\n",
    "                iteration += 1 #Update iteration number\n",
    "                false_data += 1\n",
    "        if not false_data: #When there is no false data in this round of testing then break\n",
    "            break\n",
    "        \n",
    "    return iteration\n",
    "    "
   ]
  },
  {
   "cell_type": "code",
   "execution_count": 508,
   "id": "worth-denver",
   "metadata": {},
   "outputs": [
    {
     "data": {
      "text/plain": [
       "45"
      ]
     },
     "execution_count": 508,
     "metadata": {},
     "output_type": "execute_result"
    }
   ],
   "source": [
    "load_data('./hw1_15_train.dat.txt')\n",
    "naive_pla(X,Y)  #Halt after 45 updates "
   ]
  },
  {
   "cell_type": "markdown",
   "id": "following-boost",
   "metadata": {},
   "source": [
    "### Q16 \n",
    "Implement a version of PLA by visiting examples in fixed, pre-determined random cycles throughout the algorithm. Run the algorithm on the data set. Please repeat your experiment for 2000 times, each with a different random seed. What is the average number of updates before the algorithm halts?  "
   ]
  },
  {
   "cell_type": "code",
   "execution_count": 509,
   "id": "standing-active",
   "metadata": {},
   "outputs": [],
   "source": [
    "def naive_pla_randomize(X: array, Y: array, times: int, eta=1) -> float:\n",
    "    iteration = 0\n",
    "    for r in range(times): \n",
    "        rd.seed(r) #set a new seed\n",
    "        iteration += naive_pla(X, Y, randomize = True, eta=eta)\n",
    "        \n",
    "    return iteration/times"
   ]
  },
  {
   "cell_type": "code",
   "execution_count": 510,
   "id": "verbal-hindu",
   "metadata": {},
   "outputs": [
    {
     "data": {
      "text/plain": [
       "39.624"
      ]
     },
     "execution_count": 510,
     "metadata": {},
     "output_type": "execute_result"
    }
   ],
   "source": [
    "naive_pla_randomize(X, Y, 2000) #39.624"
   ]
  },
  {
   "cell_type": "markdown",
   "id": "smaller-fault",
   "metadata": {},
   "source": [
    "### Q17\n",
    "Implement a version of PLA by visiting examples in fixed, pre-determined random cycles throughout the algorithm, while changing the update rule to be **W<sub>t+1</sub> <- W<sub>t</sub> + η*y<sub>n(t)</sub>X<sub>n(t)</sub>** with **η** = 0.5. Note that your PLA in the previous Question corresponds to η=1. Please repeat your experiment for 2000 times, each with a different random seed. What is the average number of updates before the algorithm halts?"
   ]
  },
  {
   "cell_type": "code",
   "execution_count": 511,
   "id": "foster-revolution",
   "metadata": {
    "scrolled": true
   },
   "outputs": [
    {
     "data": {
      "text/plain": [
       "39.624"
      ]
     },
     "execution_count": 511,
     "metadata": {},
     "output_type": "execute_result"
    }
   ],
   "source": [
    "naive_pla_randomize(X, Y, 2000, eta = 0.5) #39.624 indiciating that eta does not change required iteration number"
   ]
  },
  {
   "cell_type": "markdown",
   "id": "brief-hughes",
   "metadata": {},
   "source": [
    "### Q18\n",
    "Next, we play with the pocket algorithm. Modify your PLA in Question 16 to visit examples purely randomly, and then add the \"pocket\" steps to the algorithm. \n",
    "\n",
    "We will use https://www.csie.ntu.edu.tw/~htlin/mooc/datasets/mlfound_math/hw1_18_train.dat as the training data set **D**, and https://www.csie.ntu.edu.tw/~htlin/mooc/datasets/mlfound_math/hw1_18_test.dat as the test set for \"verifying\" the *g* returned by your algorithm (see lecture 4 about verifying). \n",
    "\n",
    "The sets are of the same format as the previous one. Run the pocket algorithm with a total of 50 updates on **D** , and verify the performance of **W<sub>pocket</sub>** using the test set. Please repeat your experiment for 2000 times, each with a different random seed. What is the average error rate on the test set?\n",
    "\n",
    "### 19 \n",
    "\n",
    "Modify your algorithm in Question 18 to return **w** (the PLA vector after 50 updates) instead of **W<sub>pocket</sub>**  after 50 updates. Run the modified algorithm on **D**, and verify the performance using the test set. Please repeat your experiment for 2000 times, each with a different random seed. What is the average error rate on the test set?\n"
   ]
  },
  {
   "cell_type": "code",
   "execution_count": 286,
   "id": "distant-sacramento",
   "metadata": {},
   "outputs": [],
   "source": [
    "#Load Data\n",
    "Xtrain, Ytrain = load_data('./hw1_18_train.dat.txt')\n",
    "Xtest, Ytest = load_data('./hw1_18_test.dat.txt')"
   ]
  },
  {
   "cell_type": "code",
   "execution_count": 516,
   "id": "interior-christianity",
   "metadata": {
    "scrolled": true
   },
   "outputs": [],
   "source": [
    "def test(X, Y, W):\n",
    "    n = len(Y)\n",
    "    ne = sum([1 for i in range(n) if sign(np.dot(W, X[i])) != Y[i]]) #number of errors\n",
    "    errorRate = ne / float(n)\n",
    "    return errorRate\n",
    "\n",
    "def pocket_pla(X: array, Y: array, endpoint: int, randomize = False, eta = 1) -> array:\n",
    "    n = len(Y) #Number of Y\n",
    "    d = len(X[0]) #X dimension\n",
    "    W = zeros(d) #Initial G\n",
    "    Wp = zeros(d) #Wpocket \n",
    "    \n",
    "    iteration = 0 \n",
    "    rand = range(n) \n",
    "    \n",
    "    if randomize:\n",
    "        idx = range(n)\n",
    "        rand = rd.sample(idx, n)\n",
    "        \n",
    "    error_g = test(X, Y, Wp) #Initial error generated by Wg*X\n",
    "    \n",
    "    while iteration != endpoint: #when iteration number has not reached set limitation \n",
    "        for i in rand:\n",
    "            if Y[i] != sign(np.dot(W, X[i])):\n",
    "                W  += eta*Y[i]*X[i]\n",
    "                error = test(X, Y, W)\n",
    "                if error < error_g: #if current error is smaller than the Wg's error \n",
    "                    error_g = error\n",
    "                    Wp = W.copy() #Update Wg with W's weights (use W.copy() instead of W to avoid shared id confunsion)\n",
    "                iteration += 1\n",
    "            if iteration == endpoint:\n",
    "                break\n",
    "                \n",
    "    return W, Wp\n"
   ]
  },
  {
   "cell_type": "code",
   "execution_count": 517,
   "id": "naval-external",
   "metadata": {},
   "outputs": [
    {
     "name": "stdout",
     "output_type": "stream",
     "text": [
      "0.36651000000000006 0.13259599999999996\n"
     ]
    }
   ],
   "source": [
    "sumErrorW = 0\n",
    "sumErrorWp = 0\n",
    "k = 200\n",
    "#Should be set to 2000 for the HW, but PLC is very slow. You can start with samller number before you jump to 2000\n",
    "for r in range(k):\n",
    "    rd.seed(r)\n",
    "    W, Wp = pocket_pla(Xtrain, Ytrain, 50, randomize = True)\n",
    "    sumErrorW += test(Xtest, Ytest, W)\n",
    "    sumErrorWp += test(Xtest, Ytest, Wp)\n",
    "    \n",
    "meanErrorW = sumErrorW/k\n",
    "meanErrorWp = sumErrorWp/k"
   ]
  },
  {
   "cell_type": "code",
   "execution_count": 522,
   "id": "angry-taylor",
   "metadata": {
    "scrolled": true
   },
   "outputs": [
    {
     "name": "stdout",
     "output_type": "stream",
     "text": [
      "mean error of W pocket on the testing set is 0.129900\n",
      "mean error of W on the teseting set is 0.366510\n"
     ]
    }
   ],
   "source": [
    "#Q18\n",
    "print('mean error of W pocket on the testing set is %f' %meanErrorWp) \n",
    "#Q19\n",
    "print('mean error of W on the teseting set is %f' %meanErrorW) "
   ]
  },
  {
   "cell_type": "markdown",
   "id": "varied-salon",
   "metadata": {},
   "source": [
    "### Q20\n",
    "Modify your algorithm in Question 18 to run for 100 updates instead of 50, and verify the performance of **W<sub>pocket</sub>** using the test set. Please repeat your experiment for 2000 times, each with a different random seed. What is the average error rate on the test set?"
   ]
  },
  {
   "cell_type": "code",
   "execution_count": 525,
   "id": "smoking-garlic",
   "metadata": {},
   "outputs": [],
   "source": [
    "sumErrorWp100 = 0\n",
    "k = 200\n",
    "for r in range(k):\n",
    "    rd.seed(r)\n",
    "    W, Wg = pocket_pla(Xtrain, Ytrain, 100, randomize = True)\n",
    "    sumErrorWp100 += test(Xtest, Ytest, Wp)\n",
    "    \n",
    "meanErrorWp100 = sumErrorWp100/k"
   ]
  },
  {
   "cell_type": "code",
   "execution_count": 526,
   "id": "sunset-resort",
   "metadata": {},
   "outputs": [
    {
     "name": "stdout",
     "output_type": "stream",
     "text": [
      "mean error of W on the teseting set with 100 updates is 0.100000\n"
     ]
    }
   ],
   "source": [
    "#Q20\n",
    "print('mean error of W on the teseting set with 100 updates is %f' %meanErrorWp100) "
   ]
  }
 ],
 "metadata": {
  "kernelspec": {
   "display_name": "Python 3",
   "language": "python",
   "name": "python3"
  },
  "language_info": {
   "codemirror_mode": {
    "name": "ipython",
    "version": 3
   },
   "file_extension": ".py",
   "mimetype": "text/x-python",
   "name": "python",
   "nbconvert_exporter": "python",
   "pygments_lexer": "ipython3",
   "version": "3.8.5"
  }
 },
 "nbformat": 4,
 "nbformat_minor": 5
}
